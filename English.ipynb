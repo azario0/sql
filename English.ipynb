{
  "cells": [
    {
      "cell_type": "markdown",
      "metadata": {
        "id": "view-in-github",
        "colab_type": "text"
      },
      "source": [
        "<a href=\"https://colab.research.google.com/github/azario0/sql/blob/main/English.ipynb\" target=\"_parent\"><img src=\"https://colab.research.google.com/assets/colab-badge.svg\" alt=\"Open In Colab\"/></a>"
      ]
    },
    {
      "cell_type": "markdown",
      "metadata": {
        "id": "DHf0T1-GOQf1"
      },
      "source": [
        "# Presented by Benmalek Zohir"
      ]
    },
    {
      "cell_type": "markdown",
      "metadata": {
        "id": "r2NCKMdAOQf6"
      },
      "source": [
        "## What is SQL? <br>\n",
        "SQL (Structured Query Language) is a programming language used to manage and manipulate databases.<br><br>\n",
        "## Why learn SQL?<br>\n",
        "SQL is essential for interacting with relational databases, which are widely used to store data in various applications. <br><br>\n",
        "\n",
        "## Why Use SQLite and sqlite3? <br><br>\n",
        "\n",
        "#### Simplicity and Ease of Use\n",
        "SQLite is a lightweight, serverless database that doesn't require complex setup or configuration. <br> It's ideal for learning SQL because it allows students to focus on understanding database concepts <br> without worrying about server management.\n",
        "\n",
        "#### Integration with Python and more\n",
        "\n",
        "\n",
        "## Basic SQL Queries:\n",
        "\n",
        "SELECT: Retrieve all records from the students table.\n",
        "<br>\n",
        "INSERT: Add new records to the students table.\n",
        "<br>\n",
        "UPDATE: Modify existing records.\n",
        "<br>\n",
        "DELETE: Remove records from the table."
      ]
    },
    {
      "cell_type": "markdown",
      "metadata": {
        "id": "ALvb4fcxOQf8"
      },
      "source": [
        "# The import"
      ]
    },
    {
      "cell_type": "code",
      "execution_count": null,
      "metadata": {
        "id": "uYRC8ESHOQf9"
      },
      "outputs": [],
      "source": [
        "import sqlite3"
      ]
    },
    {
      "cell_type": "markdown",
      "metadata": {
        "id": "k2mXDnwJOQf_"
      },
      "source": [
        "# Connect to an in-memory SQLite database"
      ]
    },
    {
      "cell_type": "code",
      "execution_count": null,
      "metadata": {
        "id": "EH01KJ6wOQgA"
      },
      "outputs": [],
      "source": [
        "# To create a new database file or connect to an existing one.\n",
        "# conn = sqlite3.connect('my_database.db')\n",
        "\n",
        "\n",
        "# Connect to an in-memory database to avoid file system interactions\n",
        "conn = sqlite3.connect(':memory:')\n",
        "cursor = conn.cursor()"
      ]
    },
    {
      "cell_type": "markdown",
      "metadata": {
        "id": "exLjfyKSOQgA"
      },
      "source": [
        "# Create a table"
      ]
    },
    {
      "cell_type": "code",
      "execution_count": null,
      "metadata": {
        "id": "Qu1Txz3lOQgC"
      },
      "outputs": [],
      "source": [
        "query = \"\"\"\n",
        "CREATE TABLE students\n",
        "                (id INTEGER PRIMARY KEY,\n",
        "                 name TEXT,\n",
        "                 age INTEGER)\n",
        "\"\"\"\n",
        "cursor.execute(query); # It acts as an interface between your Python code and the SQLite database."
      ]
    },
    {
      "cell_type": "markdown",
      "metadata": {
        "id": "pX387RcxOQgD"
      },
      "source": [
        "# Insert data"
      ]
    },
    {
      "cell_type": "code",
      "execution_count": null,
      "metadata": {
        "id": "TT4Im2AsOQgF"
      },
      "outputs": [],
      "source": [
        "query = \"\"\"\n",
        "INSERT INTO students (name, age) VALUES ('Alice', 20)\n",
        "\"\"\"\n",
        "cursor.execute(query) # for SQL commands\n",
        "\n",
        "query = \"\"\"\n",
        "INSERT INTO students (name, age) VALUES ('Bob', 22)\n",
        "\"\"\"\n",
        "cursor.execute(query)\n",
        "conn.commit() # To save changes."
      ]
    },
    {
      "cell_type": "markdown",
      "metadata": {
        "id": "-KQufFq2OQgG"
      },
      "source": [
        "# Select data and printing students"
      ]
    },
    {
      "cell_type": "code",
      "execution_count": null,
      "metadata": {
        "id": "76qfMWU9OQgG",
        "outputId": "e84779f4-8cab-440b-ab09-9d60190bcea3"
      },
      "outputs": [
        {
          "name": "stdout",
          "output_type": "stream",
          "text": [
            "All students:\n",
            "(1, 'Alice', 42)\n"
          ]
        }
      ],
      "source": [
        "def print_students():\n",
        "    cursor.execute(\"SELECT * FROM students\")\n",
        "    print(\"All students:\")\n",
        "    for row in cursor.fetchall(): #  to retrieve results.\n",
        "        print(row)\n",
        "\n",
        "print_students()"
      ]
    },
    {
      "cell_type": "markdown",
      "metadata": {
        "id": "jPruh3mIOQgH"
      },
      "source": [
        "# Update data"
      ]
    },
    {
      "cell_type": "code",
      "execution_count": null,
      "metadata": {
        "id": "eE6tD4nJOQgH"
      },
      "outputs": [],
      "source": [
        "query =\"UPDATE students SET age = 42 WHERE name = 'Alice'\"\n",
        "cursor.execute(query)\n",
        "conn.commit()"
      ]
    },
    {
      "cell_type": "code",
      "execution_count": null,
      "metadata": {
        "id": "HonLf1E2OQgH",
        "outputId": "97121eb9-0e2b-47c3-aeb5-32e102347f35"
      },
      "outputs": [
        {
          "name": "stdout",
          "output_type": "stream",
          "text": [
            "All students:\n",
            "(1, 'Alice', 42)\n",
            "(2, 'Bob', 22)\n"
          ]
        }
      ],
      "source": [
        "print_students()"
      ]
    },
    {
      "cell_type": "markdown",
      "metadata": {
        "id": "iNy1s1ZmOQgI"
      },
      "source": [
        "# Delete data"
      ]
    },
    {
      "cell_type": "code",
      "execution_count": null,
      "metadata": {
        "id": "qmOs42_oOQgI"
      },
      "outputs": [],
      "source": [
        "query = \"DELETE FROM students WHERE name = 'Bob'\"\n",
        "cursor.execute(query)\n",
        "conn.commit()"
      ]
    },
    {
      "cell_type": "code",
      "execution_count": null,
      "metadata": {
        "id": "dclYOpCWOQgI",
        "outputId": "4ec6f1d9-d0ae-442c-d9df-a8e4997e41a0"
      },
      "outputs": [
        {
          "name": "stdout",
          "output_type": "stream",
          "text": [
            "All students:\n",
            "(1, 'Alice', 42)\n"
          ]
        }
      ],
      "source": [
        "print_students()"
      ]
    },
    {
      "cell_type": "markdown",
      "metadata": {
        "id": "QS24qU3TOQgJ"
      },
      "source": [
        "# Close the connection"
      ]
    },
    {
      "cell_type": "code",
      "execution_count": null,
      "metadata": {
        "id": "-ZnBC3GbOQgJ"
      },
      "outputs": [],
      "source": [
        "conn.close()"
      ]
    },
    {
      "cell_type": "code",
      "execution_count": null,
      "metadata": {
        "id": "6rjoprnOOQgJ"
      },
      "outputs": [],
      "source": []
    }
  ],
  "metadata": {
    "kernelspec": {
      "display_name": "Python 3",
      "language": "python",
      "name": "python3"
    },
    "language_info": {
      "codemirror_mode": {
        "name": "ipython",
        "version": 3
      },
      "file_extension": ".py",
      "mimetype": "text/x-python",
      "name": "python",
      "nbconvert_exporter": "python",
      "pygments_lexer": "ipython3",
      "version": "3.10.12"
    },
    "colab": {
      "provenance": [],
      "include_colab_link": true
    }
  },
  "nbformat": 4,
  "nbformat_minor": 0
}