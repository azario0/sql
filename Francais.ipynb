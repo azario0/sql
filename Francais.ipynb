{
  "cells": [
    {
      "cell_type": "markdown",
      "metadata": {
        "id": "view-in-github",
        "colab_type": "text"
      },
      "source": [
        "<a href=\"https://colab.research.google.com/github/azario0/sql/blob/main/Francais.ipynb\" target=\"_parent\"><img src=\"https://colab.research.google.com/assets/colab-badge.svg\" alt=\"Open In Colab\"/></a>"
      ]
    },
    {
      "cell_type": "markdown",
      "metadata": {
        "id": "iuG0u3wVN6Kl"
      },
      "source": [
        "# Présenté par Benmalek Zohir"
      ]
    },
    {
      "cell_type": "markdown",
      "metadata": {
        "id": "P0rtHGkVN6Kr"
      },
      "source": [
        "## Qu'est-ce que SQL ? <br>\n",
        "SQL (Structured Query Language) est un langage de programmation utilisé pour gérer et manipuler des bases de données.<br><br>\n",
        "## Pourquoi apprendre SQL ?<br>\n",
        "SQL est essentiel pour interagir avec les bases de données relationnelles, qui sont largement utilisées pour stocker des données dans diverses applications. <br><br>\n",
        "\n",
        "## Pourquoi utiliser SQLite et sqlite3 ? <br><br>\n",
        "\n",
        "#### Simplicité et Facilité d'Utilisation\n",
        "SQLite est une base de données légère, sans serveur, qui ne nécessite pas une configuration complexe. <br> Elle est idéale pour apprendre SQL car elle permet aux étudiants de se concentrer sur la compréhension des concepts de base de données <br> sans se soucier de la gestion du serveur.\n",
        "\n",
        "#### Intégration avec Python et plus encore\n",
        "\n",
        "\n",
        "## Requêtes SQL de base:\n",
        "\n",
        "SELECT : Récupérer tous les enregistrements de la table students.\n",
        "<br>\n",
        "INSERT : Ajouter de nouveaux enregistrements à la table students.\n",
        "<br>\n",
        "UPDATE : Modifier des enregistrements existants.\n",
        "<br>\n",
        "DELETE : Supprimer des enregistrements de la table."
      ]
    },
    {
      "cell_type": "markdown",
      "metadata": {
        "id": "28B7In3tN6Kt"
      },
      "source": [
        "# L'import"
      ]
    },
    {
      "cell_type": "code",
      "execution_count": null,
      "metadata": {
        "id": "tPsGkv9MN6Ku"
      },
      "outputs": [],
      "source": [
        "import sqlite3"
      ]
    },
    {
      "cell_type": "markdown",
      "metadata": {
        "id": "1uYuWjENN6Kv"
      },
      "source": [
        "# Se connecter à une base de données SQLite en mémoire"
      ]
    },
    {
      "cell_type": "code",
      "execution_count": null,
      "metadata": {
        "id": "Q1cVQqMMN6Kw"
      },
      "outputs": [],
      "source": [
        "# Pour créer un nouveau fichier de base de données ou se connecter à un fichier existant.\n",
        "# conn = sqlite3.connect('my_database.db')\n",
        "\n",
        "\n",
        "# Se connecter à une base de données en mémoire pour éviter les interactions avec le système de fichiers\n",
        "conn = sqlite3.connect(':memory:')\n",
        "cursor = conn.cursor()"
      ]
    },
    {
      "cell_type": "markdown",
      "metadata": {
        "id": "BCFRW9hZN6Kx"
      },
      "source": [
        "# Créer une table"
      ]
    },
    {
      "cell_type": "code",
      "execution_count": null,
      "metadata": {
        "id": "ySgFIa5sN6Ky"
      },
      "outputs": [],
      "source": [
        "query = \"\"\"\n",
        "CREATE TABLE students\n",
        "                (id INTEGER PRIMARY KEY,\n",
        "                 name TEXT,\n",
        "                 age INTEGER)\n",
        "\"\"\"\n",
        "cursor.execute(query); # Agit comme une interface entre votre code Python et la base de données SQLite."
      ]
    },
    {
      "cell_type": "markdown",
      "metadata": {
        "id": "roSssZ3eN6Kz"
      },
      "source": [
        "# Insérer des données"
      ]
    },
    {
      "cell_type": "code",
      "execution_count": null,
      "metadata": {
        "id": "VRi4tsTtN6K0"
      },
      "outputs": [],
      "source": [
        "query = \"\"\"\n",
        "INSERT INTO students (name, age) VALUES ('Alice', 20)\n",
        "\"\"\"\n",
        "cursor.execute(query) # pour les commandes SQL\n",
        "\n",
        "query = \"\"\"\n",
        "INSERT INTO students (name, age) VALUES ('Bob', 22)\n",
        "\"\"\"\n",
        "cursor.execute(query)\n",
        "conn.commit() # Pour enregistrer les modifications."
      ]
    },
    {
      "cell_type": "markdown",
      "metadata": {
        "id": "H5B_84NjN6K2"
      },
      "source": [
        "# Sélectionner des données et imprimer les étudiants"
      ]
    },
    {
      "cell_type": "code",
      "execution_count": null,
      "metadata": {
        "id": "7M9S3lclN6K3",
        "outputId": "69ce0a7e-a37d-4e29-a3de-0e9fd42eee84"
      },
      "outputs": [
        {
          "name": "stdout",
          "output_type": "stream",
          "text": [
            "Tous les étudiants:\n",
            "(1, 'Alice', 20)\n",
            "(2, 'Bob', 22)\n"
          ]
        }
      ],
      "source": [
        "def print_students():\n",
        "    cursor.execute(\"SELECT * FROM students\")\n",
        "    print(\"Tous les étudiants:\")\n",
        "    for row in cursor.fetchall(): #  pour récupérer les résultats.\n",
        "        print(row)\n",
        "\n",
        "print_students()"
      ]
    },
    {
      "cell_type": "markdown",
      "metadata": {
        "id": "VRJQm32DN6K4"
      },
      "source": [
        "# Mettre à jour des données"
      ]
    },
    {
      "cell_type": "code",
      "execution_count": null,
      "metadata": {
        "id": "vvIBKsUgN6K4"
      },
      "outputs": [],
      "source": [
        "query =\"UPDATE students SET age = 42 WHERE name = 'Alice'\"\n",
        "cursor.execute(query)\n",
        "conn.commit()"
      ]
    },
    {
      "cell_type": "code",
      "execution_count": null,
      "metadata": {
        "id": "fE9ciO7sN6K5",
        "outputId": "eeaa53de-ba3f-4bae-e1bc-dec608dbf146"
      },
      "outputs": [
        {
          "name": "stdout",
          "output_type": "stream",
          "text": [
            "Tous les étudiants:\n",
            "(1, 'Alice', 42)\n",
            "(2, 'Bob', 22)\n"
          ]
        }
      ],
      "source": [
        "print_students()"
      ]
    },
    {
      "cell_type": "markdown",
      "metadata": {
        "id": "FYnqDsCHN6K5"
      },
      "source": [
        "# Supprimer des données"
      ]
    },
    {
      "cell_type": "code",
      "execution_count": null,
      "metadata": {
        "id": "BM3GmdjrN6K6"
      },
      "outputs": [],
      "source": [
        "query = \"DELETE FROM students WHERE name = 'Bob'\"\n",
        "cursor.execute(query)\n",
        "conn.commit()"
      ]
    },
    {
      "cell_type": "code",
      "execution_count": null,
      "metadata": {
        "id": "SHz6n4dwN6K6",
        "outputId": "be7370cd-0f4d-4045-abbd-f62bad268ec5"
      },
      "outputs": [
        {
          "name": "stdout",
          "output_type": "stream",
          "text": [
            "Tous les étudiants:\n",
            "(1, 'Alice', 42)\n"
          ]
        }
      ],
      "source": [
        "print_students()"
      ]
    },
    {
      "cell_type": "markdown",
      "metadata": {
        "id": "5aGuFXgaN6K7"
      },
      "source": [
        "# Fermer la connexion"
      ]
    },
    {
      "cell_type": "code",
      "execution_count": null,
      "metadata": {
        "id": "4YqK2Z-QN6K7"
      },
      "outputs": [],
      "source": [
        "conn.close()"
      ]
    }
  ],
  "metadata": {
    "kernelspec": {
      "display_name": "Python 3",
      "language": "python",
      "name": "python3"
    },
    "language_info": {
      "codemirror_mode": {
        "name": "ipython",
        "version": 3
      },
      "file_extension": ".py",
      "mimetype": "text/x-python",
      "name": "python",
      "nbconvert_exporter": "python",
      "pygments_lexer": "ipython3",
      "version": "3.10.12"
    },
    "colab": {
      "provenance": [],
      "include_colab_link": true
    }
  },
  "nbformat": 4,
  "nbformat_minor": 0
}